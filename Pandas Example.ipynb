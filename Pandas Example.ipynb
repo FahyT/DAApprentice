{
 "cells": [
  {
   "cell_type": "markdown",
   "metadata": {},
   "source": [
    "# Challenge 2\n",
    "\n",
    "## A different approach\n",
    "\n",
    "Challenge 2 required us to merge two data files together and then export them to a database. As many of you may have discovered, this was quite challenging and required a lot of manipulation and large SQL statements written as strings in Python.\n",
    "\n",
    "Fortunately for us, a lot of people use Python and some of them are very smart. One of the best things about Python is that you can really easily use those smart people's code yourself. We already did this when we imported pyodbc in Challenge 2:"
   ]
  },
  {
   "cell_type": "code",
   "execution_count": 2,
   "metadata": {
    "collapsed": false
   },
   "outputs": [],
   "source": [
    "import pyodbc"
   ]
  },
  {
   "cell_type": "markdown",
   "metadata": {},
   "source": [
    "In Python, imported code like pyodbc is called a module. There are thousands of modules available; there is almost always an import that will make your life way easier.\n",
    "\n",
    "For challenge 2, there is a very widely used module called pandas that does exactly what we need. More info on pandas can be found in the documentation here: https://pandas.pydata.org/pandas-docs"
   ]
  },
  {
   "cell_type": "code",
   "execution_count": 16,
   "metadata": {
    "collapsed": false
   },
   "outputs": [
    {
     "data": {
      "text/html": [
       "<div>\n",
       "<table border=\"1\" class=\"dataframe\">\n",
       "  <thead>\n",
       "    <tr style=\"text-align: right;\">\n",
       "      <th></th>\n",
       "      <th>id</th>\n",
       "      <th>date_time</th>\n",
       "      <th>city</th>\n",
       "      <th>state</th>\n",
       "      <th>UFO_shape</th>\n",
       "      <th>duration</th>\n",
       "      <th>date_posted</th>\n",
       "    </tr>\n",
       "  </thead>\n",
       "  <tbody>\n",
       "    <tr>\n",
       "      <th>0</th>\n",
       "      <td>244</td>\n",
       "      <td>01/01/1978 00:00</td>\n",
       "      <td>london (uk/englnd)</td>\n",
       "      <td>gb</td>\n",
       "      <td>disk</td>\n",
       "      <td>1.0</td>\n",
       "      <td>06/12/2008</td>\n",
       "    </tr>\n",
       "    <tr>\n",
       "      <th>1</th>\n",
       "      <td>245</td>\n",
       "      <td>01/01/1982 17:00</td>\n",
       "      <td>newcastle (uk/england)</td>\n",
       "      <td>gb</td>\n",
       "      <td>cylinder</td>\n",
       "      <td>30.0</td>\n",
       "      <td>3/21/2003</td>\n",
       "    </tr>\n",
       "    <tr>\n",
       "      <th>2</th>\n",
       "      <td>246</td>\n",
       "      <td>01/01/2002 13:00</td>\n",
       "      <td>torquay (outside of) (uk/england)</td>\n",
       "      <td>gb</td>\n",
       "      <td>sphere</td>\n",
       "      <td>30.0</td>\n",
       "      <td>5/24/2005</td>\n",
       "    </tr>\n",
       "    <tr>\n",
       "      <th>3</th>\n",
       "      <td>247</td>\n",
       "      <td>01/01/2002 22:00</td>\n",
       "      <td>sheffield (south yorkshire) (uk/england)</td>\n",
       "      <td>gb</td>\n",
       "      <td>sphere</td>\n",
       "      <td>20.0</td>\n",
       "      <td>12/14/2006</td>\n",
       "    </tr>\n",
       "    <tr>\n",
       "      <th>4</th>\n",
       "      <td>248</td>\n",
       "      <td>01/01/2003 00:05</td>\n",
       "      <td>grimsby (uk/england)</td>\n",
       "      <td>gb</td>\n",
       "      <td>light</td>\n",
       "      <td>60.0</td>\n",
       "      <td>03/04/2003</td>\n",
       "    </tr>\n",
       "  </tbody>\n",
       "</table>\n",
       "</div>"
      ],
      "text/plain": [
       "    id         date_time                                      city state  \\\n",
       "0  244  01/01/1978 00:00                        london (uk/englnd)    gb   \n",
       "1  245  01/01/1982 17:00                    newcastle (uk/england)    gb   \n",
       "2  246  01/01/2002 13:00         torquay (outside of) (uk/england)    gb   \n",
       "3  247  01/01/2002 22:00  sheffield (south yorkshire) (uk/england)    gb   \n",
       "4  248  01/01/2003 00:05                      grimsby (uk/england)    gb   \n",
       "\n",
       "  UFO_shape  duration date_posted  \n",
       "0      disk       1.0  06/12/2008  \n",
       "1  cylinder      30.0   3/21/2003  \n",
       "2    sphere      30.0   5/24/2005  \n",
       "3    sphere      20.0  12/14/2006  \n",
       "4     light      60.0  03/04/2003  "
      ]
     },
     "execution_count": 16,
     "metadata": {},
     "output_type": "execute_result"
    }
   ],
   "source": [
    "import pandas as pd\n",
    "\n",
    "file1 = r'C:\\DataAnalystData\\Challenge_2.1\\UFOGB_Details.csv'\n",
    "file2 = r'C:\\DataAnalystData\\Challenge_2.1\\UFOGB_Comments.csv'\n",
    "merged_file = r'C:\\DataAnalystData\\Challenge_2.1\\UFOGB_Observations2.csv'\n",
    "\n",
    "headers_details = [\"id\", \"date_time\", \"city\", \"state\", \"UFO_shape\", \"duration\", \"date_posted\"] \n",
    "headers_comments =[\"id\",\"comment\"]\n",
    "\n",
    "\n",
    "df1 = pd.read_csv(file1, header=None, names = headers_details)\n",
    "df2 = pd.read_csv(file2, header=None, names = headers_comments)\n",
    "\n",
    "df1.head()"
   ]
  },
  {
   "cell_type": "markdown",
   "metadata": {},
   "source": [
    "Let's breakdown the code above. The first line imports the pandas module. It adds 'as pd' to allow us to refer to pandas using the letters 'pd' rather than typing out 'pandas' every time.\n",
    "\n",
    "The rest of the code imports the two csv files. As you can see, pandas provides a function (pd.read_csv) that allows you to just import the csv. No fuss, no mess, just use the function. As our files don't have headers I have also added these using lists.\n",
    "\n",
    "Pandas turns the csv files into dataframes. Dataframes are a special data type created by pandas. They are very fast and easy to use; as you can see from the output, they look a lot like a SQL table. The df1.head() function prints the first 5 rows of the table so we can see what it looks like.\n",
    "\n",
    "Let's now complete the rest of Challenge 2."
   ]
  },
  {
   "cell_type": "code",
   "execution_count": 19,
   "metadata": {
    "collapsed": false
   },
   "outputs": [
    {
     "data": {
      "text/html": [
       "<div>\n",
       "<table border=\"1\" class=\"dataframe\">\n",
       "  <thead>\n",
       "    <tr style=\"text-align: right;\">\n",
       "      <th></th>\n",
       "      <th>id</th>\n",
       "      <th>date_time</th>\n",
       "      <th>city</th>\n",
       "      <th>state</th>\n",
       "      <th>UFO_shape</th>\n",
       "      <th>duration</th>\n",
       "      <th>date_posted</th>\n",
       "      <th>comment</th>\n",
       "    </tr>\n",
       "  </thead>\n",
       "  <tbody>\n",
       "    <tr>\n",
       "      <th>0</th>\n",
       "      <td>1</td>\n",
       "      <td>10/16/2002 15:00</td>\n",
       "      <td>glasgow (uk/scotland)</td>\n",
       "      <td>gb</td>\n",
       "      <td>other</td>\n",
       "      <td>300.0</td>\n",
       "      <td>10/28/2002</td>\n",
       "      <td>I am a Buyer with Scottish Water working in Gl...</td>\n",
       "    </tr>\n",
       "    <tr>\n",
       "      <th>1</th>\n",
       "      <td>2</td>\n",
       "      <td>10/16/2004 00:10</td>\n",
       "      <td>northampton (uk/england)</td>\n",
       "      <td>gb</td>\n",
       "      <td>light</td>\n",
       "      <td>1800.0</td>\n",
       "      <td>4/27/2007</td>\n",
       "      <td>Disco Lights over Northampton&amp;#44 UK.</td>\n",
       "    </tr>\n",
       "    <tr>\n",
       "      <th>2</th>\n",
       "      <td>3</td>\n",
       "      <td>10/16/2007 19:55</td>\n",
       "      <td>leeds (uk/england)</td>\n",
       "      <td>gb</td>\n",
       "      <td>fireball</td>\n",
       "      <td>300.0</td>\n",
       "      <td>11/28/2007</td>\n",
       "      <td>Golden light ball / craft in the sky</td>\n",
       "    </tr>\n",
       "    <tr>\n",
       "      <th>3</th>\n",
       "      <td>4</td>\n",
       "      <td>10/16/2009 19:30</td>\n",
       "      <td>selby (uk/england)</td>\n",
       "      <td>gb</td>\n",
       "      <td>changing</td>\n",
       "      <td>240.0</td>\n",
       "      <td>12/12/2009</td>\n",
       "      <td>A orange splatter shaped light hovering in one...</td>\n",
       "    </tr>\n",
       "    <tr>\n",
       "      <th>4</th>\n",
       "      <td>5</td>\n",
       "      <td>10/17/2007 20:15</td>\n",
       "      <td>leeds (west yorkshire) (uk/england)</td>\n",
       "      <td>gb</td>\n",
       "      <td>triangle</td>\n",
       "      <td>15.0</td>\n",
       "      <td>03/04/2008</td>\n",
       "      <td>((HOAX??))  i look up at the stars when i saw ...</td>\n",
       "    </tr>\n",
       "  </tbody>\n",
       "</table>\n",
       "</div>"
      ],
      "text/plain": [
       "   id         date_time                                 city state UFO_shape  \\\n",
       "0   1  10/16/2002 15:00                glasgow (uk/scotland)    gb     other   \n",
       "1   2  10/16/2004 00:10             northampton (uk/england)    gb     light   \n",
       "2   3  10/16/2007 19:55                   leeds (uk/england)    gb  fireball   \n",
       "3   4  10/16/2009 19:30                   selby (uk/england)    gb  changing   \n",
       "4   5  10/17/2007 20:15  leeds (west yorkshire) (uk/england)    gb  triangle   \n",
       "\n",
       "   duration date_posted                                            comment  \n",
       "0     300.0  10/28/2002  I am a Buyer with Scottish Water working in Gl...  \n",
       "1    1800.0   4/27/2007              Disco Lights over Northampton&#44 UK.  \n",
       "2     300.0  11/28/2007               Golden light ball / craft in the sky  \n",
       "3     240.0  12/12/2009  A orange splatter shaped light hovering in one...  \n",
       "4      15.0  03/04/2008  ((HOAX??))  i look up at the stars when i saw ...  "
      ]
     },
     "execution_count": 19,
     "metadata": {},
     "output_type": "execute_result"
    }
   ],
   "source": [
    "merged_df = df1.merge(df2, on=\"id\", sort = True)\n",
    "merged_df.to_csv(merged_file, index = False)\n",
    "\n",
    "\n",
    "merged_df.head()"
   ]
  },
  {
   "cell_type": "markdown",
   "metadata": {},
   "source": [
    "Merging the files together is just one function - unsurprisingly called merge! No messing around with lists, sorting or anything.\n",
    "\n",
    "Writing the file to a new csv is similarly one function - to_csv. This handles everything for you too. But what about getting the data into a database?"
   ]
  },
  {
   "cell_type": "code",
   "execution_count": 18,
   "metadata": {
    "collapsed": true
   },
   "outputs": [],
   "source": [
    "from sqlalchemy import create_engine\n",
    "import urllib\n",
    "\n",
    "#create database connection\n",
    "params = urllib.parse.quote_plus(r'DRIVER={ODBC Driver 13 for SQL Server};'r'SERVER=TFAHY-PC\\SQLExpress;'r'DATABASE=UFOData;'r'Trusted_Connection=yes')\n",
    "\n",
    "engine = create_engine(\"mssql+pyodbc:///?odbc_connect={}\".format(params))\n",
    "\n",
    "#create table 'UFO' and send dataframe to that table\n",
    "merged_df.to_sql('UFO', con=engine)\n"
   ]
  },
  {
   "cell_type": "markdown",
   "metadata": {},
   "source": [
    "The above might look a little scary, but its essentially exactly the same as using pyodbc in Challenge 2 Part 2. The main difference is that we are using another imported module called 'sqlalchemy'.\n",
    "\n",
    "SQL Alchemy is another extremely popular module that allows you to connect to a database and query that database, <i> without using any SQL at all. </i> Only Python needs to be used - hopefully from part 2 of the challenge you can see why this is very useful. The reason we use it here is that pandas only accepts a sqlalchemy connection.\n",
    "\n",
    "The params variable uses another module, urllib, to make sure sqlalchemy understands the database connection in the same format as that used in the challenge (r'DRIVER={ODBC Driver 13 for SQL Server}; etc). Look <a href='https://docs.sqlalchemy.org/en/13/core/engines.html'>  here </a> if you are unsure how to connect to your own database using SQLAlchemy.\n",
    "\n",
    "Once the connection is established, one line accomplishes the whole of Part 2. The to_sql pandas function creates the table, creates the columns and adds the data. No messing around with SQL strings and lists.\n",
    "\n",
    "<br>\n",
    "\n",
    "For those who made it to the end, I hope this is a useful demonstration of pandas and helps you understand that Python can in fact be very easy so long as you use the right module. If you are unsure, the best way is to google what you want to do and add the word 'Python module' to the end. The first webpage will almost certainly give you the right module to use.\n"
   ]
  },
  {
   "cell_type": "code",
   "execution_count": null,
   "metadata": {
    "collapsed": true
   },
   "outputs": [],
   "source": []
  }
 ],
 "metadata": {
  "kernelspec": {
   "display_name": "Python 3",
   "language": "python",
   "name": "python3"
  },
  "language_info": {
   "codemirror_mode": {
    "name": "ipython",
    "version": 3
   },
   "file_extension": ".py",
   "mimetype": "text/x-python",
   "name": "python",
   "nbconvert_exporter": "python",
   "pygments_lexer": "ipython3",
   "version": "3.6.0"
  }
 },
 "nbformat": 4,
 "nbformat_minor": 2
}
